{
 "cells": [
  {
   "cell_type": "markdown",
   "id": "582b6301-1b84-4aed-a487-edbd582082f3",
   "metadata": {},
   "source": [
    "# Data Science Tools and Ecosystem"
   ]
  },
  {
   "cell_type": "markdown",
   "id": "0f831168-6a7d-49e5-ad60-44eed4ffe995",
   "metadata": {},
   "source": [
    "Introduction\n",
    "In this notebook, Data Science Tools and Ecosystem are summarized."
   ]
  },
  {
   "cell_type": "markdown",
   "id": "318ead51-f47c-4b03-a727-24a737b07ec0",
   "metadata": {},
   "source": [
    "Some of the popular languages that Data Scientists use are:\n",
    "- Python\n",
    "- R\n",
    "- SQL\n",
    "- Java\n",
    "- C++\n"
   ]
  },
  {
   "cell_type": "markdown",
   "id": "f49b9a52-769c-4dfc-a801-771c2483fa81",
   "metadata": {},
   "source": [
    "Some of the commonly used libraries used by Data Scientists include:\n",
    "- NumPy\n",
    "- Pandas\n",
    "- Matplotlib\n",
    "- Scikit-learn\n",
    "- Pandas"
   ]
  },
  {
   "cell_type": "markdown",
   "id": "78e73a44-3be8-4997-b46a-d2f8e09b0952",
   "metadata": {},
   "source": [
    " Data Science Tools\n",
    "\n",
    "| Data Science Tools |\n",
    "|--------------------|\n",
    "| Jupyter            |\n",
    "| GitHub             |\n",
    "| Tableau            |\n"
   ]
  },
  {
   "cell_type": "markdown",
   "id": "c6974915-7898-4add-8fa8-2ff6edce173f",
   "metadata": {},
   "source": [
    "### Below are a few examples of evaluating arithmetic expressions in Python.\n"
   ]
  },
  {
   "cell_type": "code",
   "execution_count": 20,
   "id": "b74c8c70-debb-42dd-9749-9ebb4657e300",
   "metadata": {},
   "outputs": [
    {
     "data": {
      "text/plain": [
       "17"
      ]
     },
     "execution_count": 20,
     "metadata": {},
     "output_type": "execute_result"
    }
   ],
   "source": [
    "# This is a simple arithmetic expression to multiply then add integers\n",
    "(3 * 4) + 5\n",
    "\n",
    "\n",
    "\n"
   ]
  },
  {
   "cell_type": "code",
   "execution_count": 22,
   "id": "c28ba82f-9538-4261-9b51-c33192930664",
   "metadata": {},
   "outputs": [
    {
     "data": {
      "text/plain": [
       "3.3333333333333335"
      ]
     },
     "execution_count": 22,
     "metadata": {},
     "output_type": "execute_result"
    }
   ],
   "source": [
    "# This will convert 200 minutes to hours by dividing by 60\n",
    "200 / 60\n",
    "\n"
   ]
  },
  {
   "cell_type": "markdown",
   "id": "0c7f6cd4-2e62-4dc3-b856-86a91f55c1c4",
   "metadata": {},
   "source": [
    "**Objectives:**\n",
    "- List popular languages for Data Science\n",
    "- List popular libraries used by Data Scientists\n",
    "- Demonstrate simple arithmetic operations in Python\n",
    "- Convert time units in Python\n"
   ]
  },
  {
   "cell_type": "markdown",
   "id": "a8e234d8-ff49-4800-9f58-7d4968b81325",
   "metadata": {},
   "source": [
    "## Author\n",
    "Author Name: Leandro Enrique Pacheco Pacheco"
   ]
  },
  {
   "cell_type": "code",
   "execution_count": null,
   "id": "4a10d04f-2919-48a0-bde1-52cdeb6cc6a9",
   "metadata": {},
   "outputs": [],
   "source": []
  }
 ],
 "metadata": {
  "kernelspec": {
   "display_name": "Python 3 (ipykernel)",
   "language": "python",
   "name": "python3"
  },
  "language_info": {
   "codemirror_mode": {
    "name": "ipython",
    "version": 3
   },
   "file_extension": ".py",
   "mimetype": "text/x-python",
   "name": "python",
   "nbconvert_exporter": "python",
   "pygments_lexer": "ipython3",
   "version": "3.12.7"
  }
 },
 "nbformat": 4,
 "nbformat_minor": 5
}
